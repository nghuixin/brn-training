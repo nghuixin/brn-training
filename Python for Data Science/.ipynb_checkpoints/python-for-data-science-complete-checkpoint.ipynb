{
 "cells": [
  {
   "cell_type": "code",
   "execution_count": 26,
   "metadata": {},
   "outputs": [],
   "source": [
    "import numpy as np\n",
    "import pandas as pd\n",
    "import matplotlib.pyplot as plt\n",
    "import seaborn as sns\n",
    "import pingouin as pg\n",
    "import plotly.express as px"
   ]
  },
  {
   "cell_type": "markdown",
   "metadata": {},
   "source": [
    "#### Question 1-2\n",
    "Filter data to include rows where year is 1962."
   ]
  },
  {
   "cell_type": "code",
   "execution_count": 2,
   "metadata": {},
   "outputs": [],
   "source": [
    "df = pd.read_csv('gapminder_clean.csv', index_col=[0])"
   ]
  },
  {
   "cell_type": "code",
   "execution_count": 19,
   "metadata": {},
   "outputs": [
    {
     "data": {
      "text/plain": [
       "<Figure size 576x432 with 0 Axes>"
      ]
     },
     "metadata": {},
     "output_type": "display_data"
    },
    {
     "data": {
      "image/png": "[encoded data removed]",
      "text/plain": [
       "<Figure size 576x432 with 1 Axes>"
      ]
     },
     "metadata": {
      "needs_background": "light"
     },
     "output_type": "display_data"
    }
   ],
   "source": [
    "df62=df.loc[np.where((df['Year']==1962))]\n",
    "plt.figure(figsize=(8,6))\n",
    "co2=df62['CO2 emissions (metric tons per capita)']\n",
    "gdp=df62['gdpPercap']\n",
    "plt.figure(figsize=(8,6))\n",
    "plt.scatter((gdp),(co2), c='navy')\n",
    "plt.show()"
   ]
  },
  {
   "cell_type": "markdown",
   "metadata": {},
   "source": [
    "After visualizing the original data, we see that there are some large values that are far from most of the smaller values which appear clustered/close to each other. It appears as a GPD per capita increases, CO2 emissions increases at a faster rate, up until the GDP per capital is at about 200,000. We cannot determine if the relationship between the x and y values are linear by just visualizing them. \n",
    "\n",
    "However, given that the order of magnitude of both x and y values are large, we log transform both x (GDP) and y values (CO2)."
   ]
  },
  {
   "cell_type": "code",
   "execution_count": 25,
   "metadata": {},
   "outputs": [
    {
     "data": {
      "image/png": "[encoded data removed]",
      "text/plain": [
       "<Figure size 576x432 with 1 Axes>"
      ]
     },
     "metadata": {
      "needs_background": "light"
     },
     "output_type": "display_data"
    }
   ],
   "source": [
    "plt.figure(figsize=(8,6))\n",
    "plt.scatter(np.log(gdp),np.log(co2), c='darkgreen')\n",
    "plt.ylabel('CO2 emissions (metric tons per capita)')\n",
    "plt.xlabel('log GDP in purchasing power parity (USD per capita)')\n",
    "plt.title('log GDP vs. log CO2 emissions in 1962')\n",
    "plt.show()"
   ]
  },
  {
   "cell_type": "code",
   "execution_count": null,
   "metadata": {},
   "outputs": [],
   "source": []
  },
  {
   "cell_type": "markdown",
   "metadata": {},
   "source": [
    "#### Question 3 \n",
    "What is the Pearson R value and associated p value?  \n",
    "If the alpha value is set at 0.05, we reject the null hypothesis since the p-value is under that number. \n",
    "The r-sqaured is 0.92 which indicates this variable explains 0.92 of the variance of in CO2 emissions. "
   ]
  },
  {
   "cell_type": "code",
   "execution_count": 27,
   "metadata": {},
   "outputs": [
    {
     "data": {
      "text/html": [
       "<div>\n",
       "<style scoped>\n",
       "    .dataframe tbody tr th:only-of-type {\n",
       "        vertical-align: middle;\n",
       "    }\n",
       "\n",
       "    .dataframe tbody tr th {\n",
       "        vertical-align: top;\n",
       "    }\n",
       "\n",
       "    .dataframe thead th {\n",
       "        text-align: right;\n",
       "    }\n",
       "</style>\n",
       "<table border=\"1\" class=\"dataframe\">\n",
       "  <thead>\n",
       "    <tr style=\"text-align: right;\">\n",
       "      <th></th>\n",
       "      <th>n</th>\n",
       "      <th>r</th>\n",
       "      <th>CI95%</th>\n",
       "      <th>p-val</th>\n",
       "      <th>BF10</th>\n",
       "      <th>power</th>\n",
       "    </tr>\n",
       "  </thead>\n",
       "  <tbody>\n",
       "    <tr>\n",
       "      <th>pearson</th>\n",
       "      <td>108</td>\n",
       "      <td>0.860208</td>\n",
       "      <td>[0.8, 0.9]</td>\n",
       "      <td>8.903567e-33</td>\n",
       "      <td>3.248e+29</td>\n",
       "      <td>1.0</td>\n",
       "    </tr>\n",
       "  </tbody>\n",
       "</table>\n",
       "</div>"
      ],
      "text/plain": [
       "           n         r       CI95%         p-val       BF10  power\n",
       "pearson  108  0.860208  [0.8, 0.9]  8.903567e-33  3.248e+29    1.0"
      ]
     },
     "execution_count": 27,
     "metadata": {},
     "output_type": "execute_result"
    }
   ],
   "source": [
    "pg.corr(np.log(gdp), np.log(co2))"
   ]
  },
  {
   "cell_type": "markdown",
   "metadata": {},
   "source": [
    "#### Question 4\n",
    "Year 1967 is the year the correlation between CO2 emissions and gdpPercap is the highest, at r2=~0.94"
   ]
  },
  {
   "cell_type": "code",
   "execution_count": null,
   "metadata": {},
   "outputs": [],
   "source": [
    "yrs=list(df['Year'].value_counts().index)\n",
    "ls=[]\n",
    "for y in yrs: \n",
    "    a=df.loc[np.where((df['Year']==y))]\n",
    "    c=pg.corr(a['CO2 emissions (metric tons per capita)'], a['gdpPercap'])\n",
    "    c['year']=y\n",
    "    ls.append(c)\n",
    "pd.concat(ls).sort_values(by=['p-val'], ascending=True) #1967 "
   ]
  },
  {
   "cell_type": "markdown",
   "metadata": {},
   "source": [
    "#### Question 5\n",
    "Interactive plot"
   ]
  },
  {
   "cell_type": "code",
   "execution_count": 40,
   "metadata": {},
   "outputs": [
    {
     "data": {
      "application/vnd.plotly.v1+json": {
       "config": {
        "plotlyServerURL": "https://plot.ly"
       },
       "data": [
        {
         "hovertemplate": "continent=Asia<br>gdpPercap=%{x}<br>CO2 emissions (metric tons per capita)=%{y}<br>pop=%{marker.size}<extra></extra>",
         "legendgroup": "Asia",
         "marker": {
          "color": "#636efa",
          "size": [
           11537966,
           202182,
           6960067,
           754550000,
           506000000,
           109343000,
           8519282,
           2693585,
           100825279,
           1255058,
           575003,
           2186894,
           1149500,
           25870271,
           11261690,
           714775,
           60641899,
           35356600,
           5618198,
           1977600,
           11737396,
           34024249,
           39463910
          ],
          "sizemode": "area",
          "sizeref": 1886375,
          "symbol": "circle"
         },
         "mode": "markers",
         "name": "Asia",
         "orientation": "v",
         "showlegend": true,
         "type": "scatter",
         "x": [
          6.7288643965296195,
          9.602698132895169,
          6.260407727204409,
          6.4178847120011495,
          6.55218060195628,
          6.636513025264948,
          9.097335133186714,
          9.035241636175714,
          9.195002202057134,
          7.916368551015673,
          11.300905853333136,
          8.70067791180639,
          7.111545664057411,
          5.855071922202427,
          6.516847041746571,
          8.459763780459888,
          6.848438576441265,
          7.503359876278364,
          9.735249290557134,
          8.512666670159028,
          7.034840977934542,
          7.166621632887287,
          6.456963182684458
         ],
         "xaxis": "x",
         "y": [
          -2.0892302437139656,
          1.633352157943201,
          -2.773612626273055,
          -0.55484343653507,
          -1.1033331169677996,
          -1.461382292273549,
          0.7206438168962542,
          1.5960319499983648,
          1.5817702370820614,
          0.06951065578552235,
          3.771111364539659,
          0.49607021710329935,
          0.6069203050612632,
          -1.9412842459295432,
          -3.97337267549605,
          -1.5821252903023255,
          -0.9100046996751209,
          -0.5880431605245089,
          1.5910222219769383,
          0.4359680241844385,
          -1.3786273399065907,
          -1.0210884245632135,
          -0.5535481154885745
         ],
         "yaxis": "y"
        },
        {
         "hovertemplate": "continent=Europe<br>gdpPercap=%{x}<br>CO2 emissions (metric tons per capita)=%{y}<br>pop=%{marker.size}<extra></extra>",
         "legendgroup": "Europe",
         "marker": {
          "color": "#EF553B",
          "size": [
           1984060,
           7376998,
           9556500,
           8310226,
           4838800,
           4605744,
           49569000,
           8716441,
           10223422,
           198676,
           2900100,
           52667100,
           12596822,
           3786019,
           31785378,
           9103000,
           19284814,
           32850275,
           7867931,
           6063000,
           33411317,
           54959000
          ],
          "sizemode": "area",
          "sizeref": 1886375,
          "symbol": "circle"
         },
         "mode": "markers",
         "name": "Europe",
         "orientation": "v",
         "showlegend": true,
         "type": "scatter",
         "x": [
          7.923057307977371,
          9.459900115030328,
          9.484104121639621,
          8.626406778451468,
          9.676411982834672,
          9.298501078733246,
          9.472698302577461,
          9.04936108203667,
          9.140630601078245,
          9.497014112231879,
          8.943188630999266,
          9.212577997623582,
          9.639733661384565,
          9.702709302234608,
          8.788311759671918,
          8.758022305999726,
          8.77506531129337,
          8.986385528403389,
          9.63287869769317,
          10.041776424388496,
          7.946743665342809,
          9.556964537940104
         ],
         "xaxis": "x",
         "y": [
          0.3102355451348822,
          1.689678150206513,
          2.4174533740775055,
          1.8928663250506073,
          2.3174047915467826,
          1.8267060916743847,
          1.9887537093344534,
          0.8106697314797919,
          1.7506322665306193,
          1.9836720134191608,
          1.732548471626844,
          1.4887341910224852,
          2.137245086431761,
          1.6306699040551424,
          2.092584051026315,
          0.3352480814417691,
          1.5510285280762404,
          0.9735128881029589,
          2.171339474862857,
          1.6927860816962916,
          0.03260181041750811,
          2.3780732494586343
         ],
         "yaxis": "y"
        },
        {
         "hovertemplate": "continent=Africa<br>gdpPercap=%{x}<br>CO2 emissions (metric tons per capita)=%{y}<br>pop=%{marker.size}<extra></extra>",
         "legendgroup": "Africa",
         "marker": {
          "color": "#00cc96",
          "size": [
           12760499,
           5247469,
           2427334,
           5127935,
           3330989,
           6335506,
           1733638,
           3495967,
           217378,
           4744870,
           127617,
           259864,
           27860297,
           489004,
           8490213,
           3451418,
           601287,
           10191512,
           1279406,
           1759224,
           6334556,
           4147252,
           5212416,
           1230542,
           789309,
           14770296,
           8680909,
           4534062,
           47287752,
           3451079,
           70787,
           3965841,
           2662190,
           3428839,
           20997321,
           12716129,
           420690,
           12607312,
           1735550,
           4786986,
           8900294,
           3900000,
           4995432
          ],
          "sizemode": "area",
          "sizeref": 1886375,
          "symbol": "circle"
         },
         "mode": "markers",
         "name": "Africa",
         "orientation": "v",
         "showlegend": true,
         "type": "scatter",
         "x": [
          8.085484237760244,
          8.616635979311402,
          6.942959678882372,
          6.678123926953756,
          6.023393144989665,
          7.318839999449235,
          7.035318435187155,
          7.087415434888468,
          7.536912930614041,
          7.626594802966717,
          8.013028836387974,
          6.819575222079366,
          6.246336668896708,
          9.03106560743326,
          7.02615782048292,
          6.563516316538657,
          6.5730942973278506,
          6.9629406236562374,
          6.570327693780757,
          9.840161719261975,
          7.398815211353809,
          6.20559718299215,
          6.300803936333545,
          7.259218299513596,
          7.814152253450816,
          7.4448594395346746,
          6.339775630601859,
          6.960712834169096,
          6.922165061584215,
          6.236298578289071,
          7.233340316690606,
          7.385481903975178,
          7.095100417267865,
          7.158306333745385,
          8.869887137628433,
          7.431298277643077,
          7.868293172149886,
          6.743138453379564,
          7.298172236137634,
          7.566497419240721,
          6.812255455066505,
          7.482725337618906,
          6.345276771973746
         ],
         "xaxis": "x",
         "y": [
          -0.45867851807149007,
          -1.7918079373146136,
          -2.9503842913813383,
          -3.951967915902216,
          -4.2174995995117746,
          -2.6175559381747155,
          -2.9309911321259223,
          -3.3770195542250736,
          -2.4573417678278604,
          -1.1261779347732164,
          -0.4008412174026026,
          -2.3981998032219534,
          -3.1970463119608428,
          0.6029187799634618,
          -1.6837103519079843,
          -1.7118638142031524,
          -2.648748098049964,
          -1.3237093714304466,
          -0.7643147333080242,
          2.296698796466556,
          -1.974034586480342,
          -2.4529527877874284,
          -3.239060478223694,
          -1.6703613335006477,
          -0.452274372573753,
          -1.0172559853168135,
          -1.5317109105726523,
          -3.446581387176669,
          -1.4077922309535067,
          -4.439633271619043,
          -1.8196668674255887,
          -1.707495869992342,
          -2.249604863023763,
          -2.652875836944708,
          1.8665032073031207,
          -1.3832148174098926,
          -0.5932472816128068,
          -1.9527787367834841,
          -2.2375219028006086,
          -0.44805283625327785,
          -2.3597262588358006,
          0.23398691719386122,
          0.11596852210191426
         ],
         "yaxis": "y"
        },
        {
         "hovertemplate": "continent=Americas<br>gdpPercap=%{x}<br>CO2 emissions (metric tons per capita)=%{y}<br>pop=%{marker.size}<extra></extra>",
         "legendgroup": "Americas",
         "marker": {
          "color": "#ab63fa",
          "size": [
           22934225,
           4040665,
           88049823,
           20819767,
           8858908,
           19764027,
           1588717,
           8139332,
           4049146,
           5432424,
           3232927,
           4690773,
           4318137,
           2500689,
           1861096,
           47995559,
           1865490,
           1405486,
           2287985,
           12132200,
           960155,
           198712000,
           2748579
          ],
          "sizemode": "area",
          "sizeref": 1886375,
          "symbol": "circle"
         },
         "mode": "markers",
         "name": "Americas",
         "orientation": "v",
         "showlegend": true,
         "type": "scatter",
         "x": [
          8.993794138051967,
          7.858210135216749,
          8.14027599331388,
          9.685119333029016,
          8.53829973549822,
          7.893098020487883,
          8.33368561173511,
          8.646512628823025,
          7.410784390579362,
          8.42925212021302,
          8.379905126870375,
          8.08410952200414,
          7.28073690947216,
          7.839237772666581,
          8.720085618077562,
          8.657778079079016,
          8.443200742989394,
          8.39412324856288,
          7.74039319601381,
          8.663558212362215,
          8.634330413602209,
          9.879725742077515,
          8.602383174340977
         ],
         "xaxis": "x",
         "y": [
          1.0501789519946738,
          -0.806159833636315,
          -0.29441598661307794,
          2.625418643796846,
          0.7612683982891136,
          0.19625303546990694,
          -0.6594300627826832,
          0.6449715302814201,
          -0.9663501531542033,
          -0.7640376277940698,
          -1.0716012777105925,
          -0.9230198715080251,
          -2.837600834750552,
          -1.042708673092489,
          0.7629686574892359,
          0.6416952594023604,
          -0.7052527813595973,
          0.1973118341689172,
          -1.546400219541644,
          0.10603087760204113,
          1.6114156124415742,
          2.9230711401886738,
          0.5744207319213204
         ],
         "yaxis": "y"
        },
        {
         "hovertemplate": "continent=Oceania<br>gdpPercap=%{x}<br>CO2 emissions (metric tons per capita)=%{y}<br>pop=%{marker.size}<extra></extra>",
         "legendgroup": "Oceania",
         "marker": {
          "color": "#FFA15A",
          "size": [
           11872264,
           2728150
          ],
          "sizemode": "area",
          "sizeref": 1886375,
          "symbol": "circle"
         },
         "mode": "markers",
         "name": "Oceania",
         "orientation": "v",
         "showlegend": true,
         "type": "scatter",
         "x": [
          9.583704007294104,
          9.579412477666029
         ],
         "xaxis": "x",
         "y": [
          2.393853004620551,
          1.610959459040749
         ],
         "yaxis": "y"
        }
       ],
       "layout": {
        "legend": {
         "itemsizing": "constant",
         "title": {
          "text": "continent"
         },
         "tracegroupgap": 0
        },
        "margin": {
         "t": 60
        },
        "template": {
         "data": {
          "bar": [
           {
            "error_x": {
             "color": "#2a3f5f"
            },
            "error_y": {
             "color": "#2a3f5f"
            },
            "marker": {
             "line": {
              "color": "#E5ECF6",
              "width": 0.5
             },
             "pattern": {
              "fillmode": "overlay",
              "size": 10,
              "solidity": 0.2
             }
            },
            "type": "bar"
           }
          ],
          "barpolar": [
           {
            "marker": {
             "line": {
              "color": "#E5ECF6",
              "width": 0.5
             },
             "pattern": {
              "fillmode": "overlay",
              "size": 10,
              "solidity": 0.2
             }
            },
            "type": "barpolar"
           }
          ],
          "carpet": [
           {
            "aaxis": {
             "endlinecolor": "#2a3f5f",
             "gridcolor": "white",
             "linecolor": "white",
             "minorgridcolor": "white",
             "startlinecolor": "#2a3f5f"
            },
            "baxis": {
             "endlinecolor": "#2a3f5f",
             "gridcolor": "white",
             "linecolor": "white",
             "minorgridcolor": "white",
             "startlinecolor": "#2a3f5f"
            },
            "type": "carpet"
           }
          ],
          "choropleth": [
           {
            "colorbar": {
             "outlinewidth": 0,
             "ticks": ""
            },
            "type": "choropleth"
           }
          ],
          "contour": [
           {
            "colorbar": {
             "outlinewidth": 0,
             "ticks": ""
            },
            "colorscale": [
             [
              0,
              "#0d0887"
             ],
             [
              0.1111111111111111,
              "#46039f"
             ],
             [
              0.2222222222222222,
              "#7201a8"
             ],
             [
              0.3333333333333333,
              "#9c179e"
             ],
             [
              0.4444444444444444,
              "#bd3786"
             ],
             [
              0.5555555555555556,
              "#d8576b"
             ],
             [
              0.6666666666666666,
              "#ed7953"
             ],
             [
              0.7777777777777778,
              "#fb9f3a"
             ],
             [
              0.8888888888888888,
              "#fdca26"
             ],
             [
              1,
              "#f0f921"
             ]
            ],
            "type": "contour"
           }
          ],
          "contourcarpet": [
           {
            "colorbar": {
             "outlinewidth": 0,
             "ticks": ""
            },
            "type": "contourcarpet"
           }
          ],
          "heatmap": [
           {
            "colorbar": {
             "outlinewidth": 0,
             "ticks": ""
            },
            "colorscale": [
             [
              0,
              "#0d0887"
             ],
             [
              0.1111111111111111,
              "#46039f"
             ],
             [
              0.2222222222222222,
              "#7201a8"
             ],
             [
              0.3333333333333333,
              "#9c179e"
             ],
             [
              0.4444444444444444,
              "#bd3786"
             ],
             [
              0.5555555555555556,
              "#d8576b"
             ],
             [
              0.6666666666666666,
              "#ed7953"
             ],
             [
              0.7777777777777778,
              "#fb9f3a"
             ],
             [
              0.8888888888888888,
              "#fdca26"
             ],
             [
              1,
              "#f0f921"
             ]
            ],
            "type": "heatmap"
           }
          ],
          "heatmapgl": [
           {
            "colorbar": {
             "outlinewidth": 0,
             "ticks": ""
            },
            "colorscale": [
             [
              0,
              "#0d0887"
             ],
             [
              0.1111111111111111,
              "#46039f"
             ],
             [
              0.2222222222222222,
              "#7201a8"
             ],
             [
              0.3333333333333333,
              "#9c179e"
             ],
             [
              0.4444444444444444,
              "#bd3786"
             ],
             [
              0.5555555555555556,
              "#d8576b"
             ],
             [
              0.6666666666666666,
              "#ed7953"
             ],
             [
              0.7777777777777778,
              "#fb9f3a"
             ],
             [
              0.8888888888888888,
              "#fdca26"
             ],
             [
              1,
              "#f0f921"
             ]
            ],
            "type": "heatmapgl"
           }
          ],
          "histogram": [
           {
            "marker": {
             "pattern": {
              "fillmode": "overlay",
              "size": 10,
              "solidity": 0.2
             }
            },
            "type": "histogram"
           }
          ],
          "histogram2d": [
           {
            "colorbar": {
             "outlinewidth": 0,
             "ticks": ""
            },
            "colorscale": [
             [
              0,
              "#0d0887"
             ],
             [
              0.1111111111111111,
              "#46039f"
             ],
             [
              0.2222222222222222,
              "#7201a8"
             ],
             [
              0.3333333333333333,
              "#9c179e"
             ],
             [
              0.4444444444444444,
              "#bd3786"
             ],
             [
              0.5555555555555556,
              "#d8576b"
             ],
             [
              0.6666666666666666,
              "#ed7953"
             ],
             [
              0.7777777777777778,
              "#fb9f3a"
             ],
             [
              0.8888888888888888,
              "#fdca26"
             ],
             [
              1,
              "#f0f921"
             ]
            ],
            "type": "histogram2d"
           }
          ],
          "histogram2dcontour": [
           {
            "colorbar": {
             "outlinewidth": 0,
             "ticks": ""
            },
            "colorscale": [
             [
              0,
              "#0d0887"
             ],
             [
              0.1111111111111111,
              "#46039f"
             ],
             [
              0.2222222222222222,
              "#7201a8"
             ],
             [
              0.3333333333333333,
              "#9c179e"
             ],
             [
              0.4444444444444444,
              "#bd3786"
             ],
             [
              0.5555555555555556,
              "#d8576b"
             ],
             [
              0.6666666666666666,
              "#ed7953"
             ],
             [
              0.7777777777777778,
              "#fb9f3a"
             ],
             [
              0.8888888888888888,
              "#fdca26"
             ],
             [
              1,
              "#f0f921"
             ]
            ],
            "type": "histogram2dcontour"
           }
          ],
          "mesh3d": [
           {
            "colorbar": {
             "outlinewidth": 0,
             "ticks": ""
            },
            "type": "mesh3d"
           }
          ],
          "parcoords": [
           {
            "line": {
             "colorbar": {
              "outlinewidth": 0,
              "ticks": ""
             }
            },
            "type": "parcoords"
           }
          ],
          "pie": [
           {
            "automargin": true,
            "type": "pie"
           }
          ],
          "scatter": [
           {
            "marker": {
             "colorbar": {
              "outlinewidth": 0,
              "ticks": ""
             }
            },
            "type": "scatter"
           }
          ],
          "scatter3d": [
           {
            "line": {
             "colorbar": {
              "outlinewidth": 0,
              "ticks": ""
             }
            },
            "marker": {
             "colorbar": {
              "outlinewidth": 0,
              "ticks": ""
             }
            },
            "type": "scatter3d"
           }
          ],
          "scattercarpet": [
           {
            "marker": {
             "colorbar": {
              "outlinewidth": 0,
              "ticks": ""
             }
            },
            "type": "scattercarpet"
           }
          ],
          "scattergeo": [
           {
            "marker": {
             "colorbar": {
              "outlinewidth": 0,
              "ticks": ""
             }
            },
            "type": "scattergeo"
           }
          ],
          "scattergl": [
           {
            "marker": {
             "colorbar": {
              "outlinewidth": 0,
              "ticks": ""
             }
            },
            "type": "scattergl"
           }
          ],
          "scattermapbox": [
           {
            "marker": {
             "colorbar": {
              "outlinewidth": 0,
              "ticks": ""
             }
            },
            "type": "scattermapbox"
           }
          ],
          "scatterpolar": [
           {
            "marker": {
             "colorbar": {
              "outlinewidth": 0,
              "ticks": ""
             }
            },
            "type": "scatterpolar"
           }
          ],
          "scatterpolargl": [
           {
            "marker": {
             "colorbar": {
              "outlinewidth": 0,
              "ticks": ""
             }
            },
            "type": "scatterpolargl"
           }
          ],
          "scatterternary": [
           {
            "marker": {
             "colorbar": {
              "outlinewidth": 0,
              "ticks": ""
             }
            },
            "type": "scatterternary"
           }
          ],
          "surface": [
           {
            "colorbar": {
             "outlinewidth": 0,
             "ticks": ""
            },
            "colorscale": [
             [
              0,
              "#0d0887"
             ],
             [
              0.1111111111111111,
              "#46039f"
             ],
             [
              0.2222222222222222,
              "#7201a8"
             ],
             [
              0.3333333333333333,
              "#9c179e"
             ],
             [
              0.4444444444444444,
              "#bd3786"
             ],
             [
              0.5555555555555556,
              "#d8576b"
             ],
             [
              0.6666666666666666,
              "#ed7953"
             ],
             [
              0.7777777777777778,
              "#fb9f3a"
             ],
             [
              0.8888888888888888,
              "#fdca26"
             ],
             [
              1,
              "#f0f921"
             ]
            ],
            "type": "surface"
           }
          ],
          "table": [
           {
            "cells": {
             "fill": {
              "color": "#EBF0F8"
             },
             "line": {
              "color": "white"
             }
            },
            "header": {
             "fill": {
              "color": "#C8D4E3"
             },
             "line": {
              "color": "white"
             }
            },
            "type": "table"
           }
          ]
         },
         "layout": {
          "annotationdefaults": {
           "arrowcolor": "#2a3f5f",
           "arrowhead": 0,
           "arrowwidth": 1
          },
          "autotypenumbers": "strict",
          "coloraxis": {
           "colorbar": {
            "outlinewidth": 0,
            "ticks": ""
           }
          },
          "colorscale": {
           "diverging": [
            [
             0,
             "#8e0152"
            ],
            [
             0.1,
             "#c51b7d"
            ],
            [
             0.2,
             "#de77ae"
            ],
            [
             0.3,
             "#f1b6da"
            ],
            [
             0.4,
             "#fde0ef"
            ],
            [
             0.5,
             "#f7f7f7"
            ],
            [
             0.6,
             "#e6f5d0"
            ],
            [
             0.7,
             "#b8e186"
            ],
            [
             0.8,
             "#7fbc41"
            ],
            [
             0.9,
             "#4d9221"
            ],
            [
             1,
             "#276419"
            ]
           ],
           "sequential": [
            [
             0,
             "#0d0887"
            ],
            [
             0.1111111111111111,
             "#46039f"
            ],
            [
             0.2222222222222222,
             "#7201a8"
            ],
            [
             0.3333333333333333,
             "#9c179e"
            ],
            [
             0.4444444444444444,
             "#bd3786"
            ],
            [
             0.5555555555555556,
             "#d8576b"
            ],
            [
             0.6666666666666666,
             "#ed7953"
            ],
            [
             0.7777777777777778,
             "#fb9f3a"
            ],
            [
             0.8888888888888888,
             "#fdca26"
            ],
            [
             1,
             "#f0f921"
            ]
           ],
           "sequentialminus": [
            [
             0,
             "#0d0887"
            ],
            [
             0.1111111111111111,
             "#46039f"
            ],
            [
             0.2222222222222222,
             "#7201a8"
            ],
            [
             0.3333333333333333,
             "#9c179e"
            ],
            [
             0.4444444444444444,
             "#bd3786"
            ],
            [
             0.5555555555555556,
             "#d8576b"
            ],
            [
             0.6666666666666666,
             "#ed7953"
            ],
            [
             0.7777777777777778,
             "#fb9f3a"
            ],
            [
             0.8888888888888888,
             "#fdca26"
            ],
            [
             1,
             "#f0f921"
            ]
           ]
          },
          "colorway": [
           "#636efa",
           "#EF553B",
           "#00cc96",
           "#ab63fa",
           "#FFA15A",
           "#19d3f3",
           "#FF6692",
           "#B6E880",
           "#FF97FF",
           "#FECB52"
          ],
          "font": {
           "color": "#2a3f5f"
          },
          "geo": {
           "bgcolor": "white",
           "lakecolor": "white",
           "landcolor": "#E5ECF6",
           "showlakes": true,
           "showland": true,
           "subunitcolor": "white"
          },
          "hoverlabel": {
           "align": "left"
          },
          "hovermode": "closest",
          "mapbox": {
           "style": "light"
          },
          "paper_bgcolor": "white",
          "plot_bgcolor": "#E5ECF6",
          "polar": {
           "angularaxis": {
            "gridcolor": "white",
            "linecolor": "white",
            "ticks": ""
           },
           "bgcolor": "#E5ECF6",
           "radialaxis": {
            "gridcolor": "white",
            "linecolor": "white",
            "ticks": ""
           }
          },
          "scene": {
           "xaxis": {
            "backgroundcolor": "#E5ECF6",
            "gridcolor": "white",
            "gridwidth": 2,
            "linecolor": "white",
            "showbackground": true,
            "ticks": "",
            "zerolinecolor": "white"
           },
           "yaxis": {
            "backgroundcolor": "#E5ECF6",
            "gridcolor": "white",
            "gridwidth": 2,
            "linecolor": "white",
            "showbackground": true,
            "ticks": "",
            "zerolinecolor": "white"
           },
           "zaxis": {
            "backgroundcolor": "#E5ECF6",
            "gridcolor": "white",
            "gridwidth": 2,
            "linecolor": "white",
            "showbackground": true,
            "ticks": "",
            "zerolinecolor": "white"
           }
          },
          "shapedefaults": {
           "line": {
            "color": "#2a3f5f"
           }
          },
          "ternary": {
           "aaxis": {
            "gridcolor": "white",
            "linecolor": "white",
            "ticks": ""
           },
           "baxis": {
            "gridcolor": "white",
            "linecolor": "white",
            "ticks": ""
           },
           "bgcolor": "#E5ECF6",
           "caxis": {
            "gridcolor": "white",
            "linecolor": "white",
            "ticks": ""
           }
          },
          "title": {
           "x": 0.05
          },
          "xaxis": {
           "automargin": true,
           "gridcolor": "white",
           "linecolor": "white",
           "ticks": "",
           "title": {
            "standoff": 15
           },
           "zerolinecolor": "white",
           "zerolinewidth": 2
          },
          "yaxis": {
           "automargin": true,
           "gridcolor": "white",
           "linecolor": "white",
           "ticks": "",
           "title": {
            "standoff": 15
           },
           "zerolinecolor": "white",
           "zerolinewidth": 2
          }
         }
        },
        "title": {
         "text": "log GDP vs. log CO2 emissions in 1967",
         "x": 0.45,
         "xanchor": "center",
         "y": 0.92,
         "yanchor": "top"
        },
        "xaxis": {
         "anchor": "y",
         "domain": [
          0,
          1
         ],
         "title": {
          "text": "gdpPercap"
         }
        },
        "yaxis": {
         "anchor": "x",
         "domain": [
          0,
          1
         ],
         "title": {
          "text": "CO2 emissions (metric tons per capita)"
         }
        }
       }
      },
      "text/html": [
       "<div>                            <div id=\"2f4f39e1-ccde-4a85-a738-2e479b812db9\" class=\"plotly-graph-div\" style=\"height:525px; width:100%;\"></div>            <script type=\"text/javascript\">                require([\"plotly\"], function(Plotly) {                    window.PLOTLYENV=window.PLOTLYENV || {};                                    if (document.getElementById(\"2f4f39e1-ccde-4a85-a738-2e479b812db9\")) {                    Plotly.newPlot(                        \"2f4f39e1-ccde-4a85-a738-2e479b812db9\",                        [{\"hovertemplate\":\"continent=Asia<br>gdpPercap=%{x}<br>CO2 emissions (metric tons per capita)=%{y}<br>pop=%{marker.size}<extra></extra>\",\"legendgroup\":\"Asia\",\"marker\":{\"color\":\"#636efa\",\"size\":[11537966.0,202182.0,6960067.0,754550000.0,506000000.0,109343000.0,8519282.0,2693585.0,100825279.0,1255058.0,575003.0,2186894.0,1149500.0,25870271.0,11261690.0,714775.0,60641899.0,35356600.0,5618198.0,1977600.0,11737396.0,34024249.0,39463910.0],\"sizemode\":\"area\",\"sizeref\":1886375.0,\"symbol\":\"circle\"},\"mode\":\"markers\",\"name\":\"Asia\",\"orientation\":\"v\",\"showlegend\":true,\"x\":[6.7288643965296195,9.602698132895169,6.260407727204409,6.4178847120011495,6.55218060195628,6.636513025264948,9.097335133186714,9.035241636175714,9.195002202057134,7.916368551015673,11.300905853333136,8.70067791180639,7.111545664057411,5.855071922202427,6.516847041746571,8.459763780459888,6.848438576441265,7.503359876278364,9.735249290557134,8.512666670159028,7.034840977934542,7.166621632887287,6.456963182684458],\"xaxis\":\"x\",\"y\":[-2.0892302437139656,1.633352157943201,-2.773612626273055,-0.55484343653507,-1.1033331169677996,-1.461382292273549,0.7206438168962542,1.5960319499983648,1.5817702370820614,0.06951065578552235,3.771111364539659,0.49607021710329935,0.6069203050612632,-1.9412842459295432,-3.97337267549605,-1.5821252903023255,-0.9100046996751209,-0.5880431605245089,1.5910222219769383,0.4359680241844385,-1.3786273399065907,-1.0210884245632135,-0.5535481154885745],\"yaxis\":\"y\",\"type\":\"scatter\"},{\"hovertemplate\":\"continent=Europe<br>gdpPercap=%{x}<br>CO2 emissions (metric tons per capita)=%{y}<br>pop=%{marker.size}<extra></extra>\",\"legendgroup\":\"Europe\",\"marker\":{\"color\":\"#EF553B\",\"size\":[1984060.0,7376998.0,9556500.0,8310226.0,4838800.0,4605744.0,49569000.0,8716441.0,10223422.0,198676.0,2900100.0,52667100.0,12596822.0,3786019.0,31785378.0,9103000.0,19284814.0,32850275.0,7867931.0,6063000.0,33411317.0,54959000.0],\"sizemode\":\"area\",\"sizeref\":1886375.0,\"symbol\":\"circle\"},\"mode\":\"markers\",\"name\":\"Europe\",\"orientation\":\"v\",\"showlegend\":true,\"x\":[7.923057307977371,9.459900115030328,9.484104121639621,8.626406778451468,9.676411982834672,9.298501078733246,9.472698302577461,9.04936108203667,9.140630601078245,9.497014112231879,8.943188630999266,9.212577997623582,9.639733661384565,9.702709302234608,8.788311759671918,8.758022305999726,8.77506531129337,8.986385528403389,9.63287869769317,10.041776424388496,7.946743665342809,9.556964537940104],\"xaxis\":\"x\",\"y\":[0.3102355451348822,1.689678150206513,2.4174533740775055,1.8928663250506073,2.3174047915467826,1.8267060916743847,1.9887537093344534,0.8106697314797919,1.7506322665306193,1.9836720134191608,1.732548471626844,1.4887341910224852,2.137245086431761,1.6306699040551424,2.092584051026315,0.3352480814417691,1.5510285280762404,0.9735128881029589,2.171339474862857,1.6927860816962916,0.03260181041750811,2.3780732494586343],\"yaxis\":\"y\",\"type\":\"scatter\"},{\"hovertemplate\":\"continent=Africa<br>gdpPercap=%{x}<br>CO2 emissions (metric tons per capita)=%{y}<br>pop=%{marker.size}<extra></extra>\",\"legendgroup\":\"Africa\",\"marker\":{\"color\":\"#00cc96\",\"size\":[12760499.0,5247469.0,2427334.0,5127935.0,3330989.0,6335506.0,1733638.0,3495967.0,217378.0,4744870.0,127617.0,259864.0,27860297.0,489004.0,8490213.0,3451418.0,601287.0,10191512.0,1279406.0,1759224.0,6334556.0,4147252.0,5212416.0,1230542.0,789309.0,14770296.0,8680909.0,4534062.0,47287752.0,3451079.0,70787.0,3965841.0,2662190.0,3428839.0,20997321.0,12716129.0,420690.0,12607312.0,1735550.0,4786986.0,8900294.0,3900000.0,4995432.0],\"sizemode\":\"area\",\"sizeref\":1886375.0,\"symbol\":\"circle\"},\"mode\":\"markers\",\"name\":\"Africa\",\"orientation\":\"v\",\"showlegend\":true,\"x\":[8.085484237760244,8.616635979311402,6.942959678882372,6.678123926953756,6.023393144989665,7.318839999449235,7.035318435187155,7.087415434888468,7.536912930614041,7.626594802966717,8.013028836387974,6.819575222079366,6.246336668896708,9.03106560743326,7.02615782048292,6.563516316538657,6.5730942973278506,6.9629406236562374,6.570327693780757,9.840161719261975,7.398815211353809,6.20559718299215,6.300803936333545,7.259218299513596,7.814152253450816,7.4448594395346746,6.339775630601859,6.960712834169096,6.922165061584215,6.236298578289071,7.233340316690606,7.385481903975178,7.095100417267865,7.158306333745385,8.869887137628433,7.431298277643077,7.868293172149886,6.743138453379564,7.298172236137634,7.566497419240721,6.812255455066505,7.482725337618906,6.345276771973746],\"xaxis\":\"x\",\"y\":[-0.45867851807149007,-1.7918079373146136,-2.9503842913813383,-3.951967915902216,-4.2174995995117746,-2.6175559381747155,-2.9309911321259223,-3.3770195542250736,-2.4573417678278604,-1.1261779347732164,-0.4008412174026026,-2.3981998032219534,-3.1970463119608428,0.6029187799634618,-1.6837103519079843,-1.7118638142031524,-2.648748098049964,-1.3237093714304466,-0.7643147333080242,2.296698796466556,-1.974034586480342,-2.4529527877874284,-3.239060478223694,-1.6703613335006477,-0.452274372573753,-1.0172559853168135,-1.5317109105726523,-3.446581387176669,-1.4077922309535067,-4.439633271619043,-1.8196668674255887,-1.707495869992342,-2.249604863023763,-2.652875836944708,1.8665032073031207,-1.3832148174098926,-0.5932472816128068,-1.9527787367834841,-2.2375219028006086,-0.44805283625327785,-2.3597262588358006,0.23398691719386122,0.11596852210191426],\"yaxis\":\"y\",\"type\":\"scatter\"},{\"hovertemplate\":\"continent=Americas<br>gdpPercap=%{x}<br>CO2 emissions (metric tons per capita)=%{y}<br>pop=%{marker.size}<extra></extra>\",\"legendgroup\":\"Americas\",\"marker\":{\"color\":\"#ab63fa\",\"size\":[22934225.0,4040665.0,88049823.0,20819767.0,8858908.0,19764027.0,1588717.0,8139332.0,4049146.0,5432424.0,3232927.0,4690773.0,4318137.0,2500689.0,1861096.0,47995559.0,1865490.0,1405486.0,2287985.0,12132200.0,960155.0,198712000.0,2748579.0],\"sizemode\":\"area\",\"sizeref\":1886375.0,\"symbol\":\"circle\"},\"mode\":\"markers\",\"name\":\"Americas\",\"orientation\":\"v\",\"showlegend\":true,\"x\":[8.993794138051967,7.858210135216749,8.14027599331388,9.685119333029016,8.53829973549822,7.893098020487883,8.33368561173511,8.646512628823025,7.410784390579362,8.42925212021302,8.379905126870375,8.08410952200414,7.28073690947216,7.839237772666581,8.720085618077562,8.657778079079016,8.443200742989394,8.39412324856288,7.74039319601381,8.663558212362215,8.634330413602209,9.879725742077515,8.602383174340977],\"xaxis\":\"x\",\"y\":[1.0501789519946738,-0.806159833636315,-0.29441598661307794,2.625418643796846,0.7612683982891136,0.19625303546990694,-0.6594300627826832,0.6449715302814201,-0.9663501531542033,-0.7640376277940698,-1.0716012777105925,-0.9230198715080251,-2.837600834750552,-1.042708673092489,0.7629686574892359,0.6416952594023604,-0.7052527813595973,0.1973118341689172,-1.546400219541644,0.10603087760204113,1.6114156124415742,2.9230711401886738,0.5744207319213204],\"yaxis\":\"y\",\"type\":\"scatter\"},{\"hovertemplate\":\"continent=Oceania<br>gdpPercap=%{x}<br>CO2 emissions (metric tons per capita)=%{y}<br>pop=%{marker.size}<extra></extra>\",\"legendgroup\":\"Oceania\",\"marker\":{\"color\":\"#FFA15A\",\"size\":[11872264.0,2728150.0],\"sizemode\":\"area\",\"sizeref\":1886375.0,\"symbol\":\"circle\"},\"mode\":\"markers\",\"name\":\"Oceania\",\"orientation\":\"v\",\"showlegend\":true,\"x\":[9.583704007294104,9.579412477666029],\"xaxis\":\"x\",\"y\":[2.393853004620551,1.610959459040749],\"yaxis\":\"y\",\"type\":\"scatter\"}],                        {\"template\":{\"data\":{\"bar\":[{\"error_x\":{\"color\":\"#2a3f5f\"},\"error_y\":{\"color\":\"#2a3f5f\"},\"marker\":{\"line\":{\"color\":\"#E5ECF6\",\"width\":0.5},\"pattern\":{\"fillmode\":\"overlay\",\"size\":10,\"solidity\":0.2}},\"type\":\"bar\"}],\"barpolar\":[{\"marker\":{\"line\":{\"color\":\"#E5ECF6\",\"width\":0.5},\"pattern\":{\"fillmode\":\"overlay\",\"size\":10,\"solidity\":0.2}},\"type\":\"barpolar\"}],\"carpet\":[{\"aaxis\":{\"endlinecolor\":\"#2a3f5f\",\"gridcolor\":\"white\",\"linecolor\":\"white\",\"minorgridcolor\":\"white\",\"startlinecolor\":\"#2a3f5f\"},\"baxis\":{\"endlinecolor\":\"#2a3f5f\",\"gridcolor\":\"white\",\"linecolor\":\"white\",\"minorgridcolor\":\"white\",\"startlinecolor\":\"#2a3f5f\"},\"type\":\"carpet\"}],\"choropleth\":[{\"colorbar\":{\"outlinewidth\":0,\"ticks\":\"\"},\"type\":\"choropleth\"}],\"contour\":[{\"colorbar\":{\"outlinewidth\":0,\"ticks\":\"\"},\"colorscale\":[[0.0,\"#0d0887\"],[0.1111111111111111,\"#46039f\"],[0.2222222222222222,\"#7201a8\"],[0.3333333333333333,\"#9c179e\"],[0.4444444444444444,\"#bd3786\"],[0.5555555555555556,\"#d8576b\"],[0.6666666666666666,\"#ed7953\"],[0.7777777777777778,\"#fb9f3a\"],[0.8888888888888888,\"#fdca26\"],[1.0,\"#f0f921\"]],\"type\":\"contour\"}],\"contourcarpet\":[{\"colorbar\":{\"outlinewidth\":0,\"ticks\":\"\"},\"type\":\"contourcarpet\"}],\"heatmap\":[{\"colorbar\":{\"outlinewidth\":0,\"ticks\":\"\"},\"colorscale\":[[0.0,\"#0d0887\"],[0.1111111111111111,\"#46039f\"],[0.2222222222222222,\"#7201a8\"],[0.3333333333333333,\"#9c179e\"],[0.4444444444444444,\"#bd3786\"],[0.5555555555555556,\"#d8576b\"],[0.6666666666666666,\"#ed7953\"],[0.7777777777777778,\"#fb9f3a\"],[0.8888888888888888,\"#fdca26\"],[1.0,\"#f0f921\"]],\"type\":\"heatmap\"}],\"heatmapgl\":[{\"colorbar\":{\"outlinewidth\":0,\"ticks\":\"\"},\"colorscale\":[[0.0,\"#0d0887\"],[0.1111111111111111,\"#46039f\"],[0.2222222222222222,\"#7201a8\"],[0.3333333333333333,\"#9c179e\"],[0.4444444444444444,\"#bd3786\"],[0.5555555555555556,\"#d8576b\"],[0.6666666666666666,\"#ed7953\"],[0.7777777777777778,\"#fb9f3a\"],[0.8888888888888888,\"#fdca26\"],[1.0,\"#f0f921\"]],\"type\":\"heatmapgl\"}],\"histogram\":[{\"marker\":{\"pattern\":{\"fillmode\":\"overlay\",\"size\":10,\"solidity\":0.2}},\"type\":\"histogram\"}],\"histogram2d\":[{\"colorbar\":{\"outlinewidth\":0,\"ticks\":\"\"},\"colorscale\":[[0.0,\"#0d0887\"],[0.1111111111111111,\"#46039f\"],[0.2222222222222222,\"#7201a8\"],[0.3333333333333333,\"#9c179e\"],[0.4444444444444444,\"#bd3786\"],[0.5555555555555556,\"#d8576b\"],[0.6666666666666666,\"#ed7953\"],[0.7777777777777778,\"#fb9f3a\"],[0.8888888888888888,\"#fdca26\"],[1.0,\"#f0f921\"]],\"type\":\"histogram2d\"}],\"histogram2dcontour\":[{\"colorbar\":{\"outlinewidth\":0,\"ticks\":\"\"},\"colorscale\":[[0.0,\"#0d0887\"],[0.1111111111111111,\"#46039f\"],[0.2222222222222222,\"#7201a8\"],[0.3333333333333333,\"#9c179e\"],[0.4444444444444444,\"#bd3786\"],[0.5555555555555556,\"#d8576b\"],[0.6666666666666666,\"#ed7953\"],[0.7777777777777778,\"#fb9f3a\"],[0.8888888888888888,\"#fdca26\"],[1.0,\"#f0f921\"]],\"type\":\"histogram2dcontour\"}],\"mesh3d\":[{\"colorbar\":{\"outlinewidth\":0,\"ticks\":\"\"},\"type\":\"mesh3d\"}],\"parcoords\":[{\"line\":{\"colorbar\":{\"outlinewidth\":0,\"ticks\":\"\"}},\"type\":\"parcoords\"}],\"pie\":[{\"automargin\":true,\"type\":\"pie\"}],\"scatter\":[{\"marker\":{\"colorbar\":{\"outlinewidth\":0,\"ticks\":\"\"}},\"type\":\"scatter\"}],\"scatter3d\":[{\"line\":{\"colorbar\":{\"outlinewidth\":0,\"ticks\":\"\"}},\"marker\":{\"colorbar\":{\"outlinewidth\":0,\"ticks\":\"\"}},\"type\":\"scatter3d\"}],\"scattercarpet\":[{\"marker\":{\"colorbar\":{\"outlinewidth\":0,\"ticks\":\"\"}},\"type\":\"scattercarpet\"}],\"scattergeo\":[{\"marker\":{\"colorbar\":{\"outlinewidth\":0,\"ticks\":\"\"}},\"type\":\"scattergeo\"}],\"scattergl\":[{\"marker\":{\"colorbar\":{\"outlinewidth\":0,\"ticks\":\"\"}},\"type\":\"scattergl\"}],\"scattermapbox\":[{\"marker\":{\"colorbar\":{\"outlinewidth\":0,\"ticks\":\"\"}},\"type\":\"scattermapbox\"}],\"scatterpolar\":[{\"marker\":{\"colorbar\":{\"outlinewidth\":0,\"ticks\":\"\"}},\"type\":\"scatterpolar\"}],\"scatterpolargl\":[{\"marker\":{\"colorbar\":{\"outlinewidth\":0,\"ticks\":\"\"}},\"type\":\"scatterpolargl\"}],\"scatterternary\":[{\"marker\":{\"colorbar\":{\"outlinewidth\":0,\"ticks\":\"\"}},\"type\":\"scatterternary\"}],\"surface\":[{\"colorbar\":{\"outlinewidth\":0,\"ticks\":\"\"},\"colorscale\":[[0.0,\"#0d0887\"],[0.1111111111111111,\"#46039f\"],[0.2222222222222222,\"#7201a8\"],[0.3333333333333333,\"#9c179e\"],[0.4444444444444444,\"#bd3786\"],[0.5555555555555556,\"#d8576b\"],[0.6666666666666666,\"#ed7953\"],[0.7777777777777778,\"#fb9f3a\"],[0.8888888888888888,\"#fdca26\"],[1.0,\"#f0f921\"]],\"type\":\"surface\"}],\"table\":[{\"cells\":{\"fill\":{\"color\":\"#EBF0F8\"},\"line\":{\"color\":\"white\"}},\"header\":{\"fill\":{\"color\":\"#C8D4E3\"},\"line\":{\"color\":\"white\"}},\"type\":\"table\"}]},\"layout\":{\"annotationdefaults\":{\"arrowcolor\":\"#2a3f5f\",\"arrowhead\":0,\"arrowwidth\":1},\"autotypenumbers\":\"strict\",\"coloraxis\":{\"colorbar\":{\"outlinewidth\":0,\"ticks\":\"\"}},\"colorscale\":{\"diverging\":[[0,\"#8e0152\"],[0.1,\"#c51b7d\"],[0.2,\"#de77ae\"],[0.3,\"#f1b6da\"],[0.4,\"#fde0ef\"],[0.5,\"#f7f7f7\"],[0.6,\"#e6f5d0\"],[0.7,\"#b8e186\"],[0.8,\"#7fbc41\"],[0.9,\"#4d9221\"],[1,\"#276419\"]],\"sequential\":[[0.0,\"#0d0887\"],[0.1111111111111111,\"#46039f\"],[0.2222222222222222,\"#7201a8\"],[0.3333333333333333,\"#9c179e\"],[0.4444444444444444,\"#bd3786\"],[0.5555555555555556,\"#d8576b\"],[0.6666666666666666,\"#ed7953\"],[0.7777777777777778,\"#fb9f3a\"],[0.8888888888888888,\"#fdca26\"],[1.0,\"#f0f921\"]],\"sequentialminus\":[[0.0,\"#0d0887\"],[0.1111111111111111,\"#46039f\"],[0.2222222222222222,\"#7201a8\"],[0.3333333333333333,\"#9c179e\"],[0.4444444444444444,\"#bd3786\"],[0.5555555555555556,\"#d8576b\"],[0.6666666666666666,\"#ed7953\"],[0.7777777777777778,\"#fb9f3a\"],[0.8888888888888888,\"#fdca26\"],[1.0,\"#f0f921\"]]},\"colorway\":[\"#636efa\",\"#EF553B\",\"#00cc96\",\"#ab63fa\",\"#FFA15A\",\"#19d3f3\",\"#FF6692\",\"#B6E880\",\"#FF97FF\",\"#FECB52\"],\"font\":{\"color\":\"#2a3f5f\"},\"geo\":{\"bgcolor\":\"white\",\"lakecolor\":\"white\",\"landcolor\":\"#E5ECF6\",\"showlakes\":true,\"showland\":true,\"subunitcolor\":\"white\"},\"hoverlabel\":{\"align\":\"left\"},\"hovermode\":\"closest\",\"mapbox\":{\"style\":\"light\"},\"paper_bgcolor\":\"white\",\"plot_bgcolor\":\"#E5ECF6\",\"polar\":{\"angularaxis\":{\"gridcolor\":\"white\",\"linecolor\":\"white\",\"ticks\":\"\"},\"bgcolor\":\"#E5ECF6\",\"radialaxis\":{\"gridcolor\":\"white\",\"linecolor\":\"white\",\"ticks\":\"\"}},\"scene\":{\"xaxis\":{\"backgroundcolor\":\"#E5ECF6\",\"gridcolor\":\"white\",\"gridwidth\":2,\"linecolor\":\"white\",\"showbackground\":true,\"ticks\":\"\",\"zerolinecolor\":\"white\"},\"yaxis\":{\"backgroundcolor\":\"#E5ECF6\",\"gridcolor\":\"white\",\"gridwidth\":2,\"linecolor\":\"white\",\"showbackground\":true,\"ticks\":\"\",\"zerolinecolor\":\"white\"},\"zaxis\":{\"backgroundcolor\":\"#E5ECF6\",\"gridcolor\":\"white\",\"gridwidth\":2,\"linecolor\":\"white\",\"showbackground\":true,\"ticks\":\"\",\"zerolinecolor\":\"white\"}},\"shapedefaults\":{\"line\":{\"color\":\"#2a3f5f\"}},\"ternary\":{\"aaxis\":{\"gridcolor\":\"white\",\"linecolor\":\"white\",\"ticks\":\"\"},\"baxis\":{\"gridcolor\":\"white\",\"linecolor\":\"white\",\"ticks\":\"\"},\"bgcolor\":\"#E5ECF6\",\"caxis\":{\"gridcolor\":\"white\",\"linecolor\":\"white\",\"ticks\":\"\"}},\"title\":{\"x\":0.05},\"xaxis\":{\"automargin\":true,\"gridcolor\":\"white\",\"linecolor\":\"white\",\"ticks\":\"\",\"title\":{\"standoff\":15},\"zerolinecolor\":\"white\",\"zerolinewidth\":2},\"yaxis\":{\"automargin\":true,\"gridcolor\":\"white\",\"linecolor\":\"white\",\"ticks\":\"\",\"title\":{\"standoff\":15},\"zerolinecolor\":\"white\",\"zerolinewidth\":2}}},\"xaxis\":{\"anchor\":\"y\",\"domain\":[0.0,1.0],\"title\":{\"text\":\"gdpPercap\"}},\"yaxis\":{\"anchor\":\"x\",\"domain\":[0.0,1.0],\"title\":{\"text\":\"CO2 emissions (metric tons per capita)\"}},\"legend\":{\"title\":{\"text\":\"continent\"},\"tracegroupgap\":0,\"itemsizing\":\"constant\"},\"margin\":{\"t\":60},\"title\":{\"text\":\"log GDP vs. log CO2 emissions in 1967\",\"xanchor\":\"center\",\"yanchor\":\"top\",\"x\":0.45,\"y\":0.92}},                        {\"responsive\": true}                    ).then(function(){\n",
       "                            \n",
       "var gd = document.getElementById('2f4f39e1-ccde-4a85-a738-2e479b812db9');\n",
       "var x = new MutationObserver(function (mutations, observer) {{\n",
       "        var display = window.getComputedStyle(gd).display;\n",
       "        if (!display || display === 'none') {{\n",
       "            console.log([gd, 'removed!']);\n",
       "            Plotly.purge(gd);\n",
       "            observer.disconnect();\n",
       "        }}\n",
       "}});\n",
       "\n",
       "// Listen for the removal of the full notebook cells\n",
       "var notebookContainer = gd.closest('#notebook-container');\n",
       "if (notebookContainer) {{\n",
       "    x.observe(notebookContainer, {childList: true});\n",
       "}}\n",
       "\n",
       "// Listen for the clearing of the current output cell\n",
       "var outputEl = gd.closest('.output');\n",
       "if (outputEl) {{\n",
       "    x.observe(outputEl, {childList: true});\n",
       "}}\n",
       "\n",
       "                        })                };                });            </script>        </div>"
      ]
     },
     "metadata": {},
     "output_type": "display_data"
    }
   ],
   "source": [
    "yr67=df[df['Year']==1967]\n",
    "yr67=yr67[[\"gdpPercap\",\"CO2 emissions (metric tons per capita)\", 'pop',\n",
    "         'continent' ]].dropna()\n",
    "yr67[[\"gdpPercap\",\"CO2 emissions (metric tons per capita)\"]] =  np.log(yr67[[\"gdpPercap\",\"CO2 emissions (metric tons per capita)\"]])\n",
    "fig=px.scatter(yr67, x=\"gdpPercap\", y=\"CO2 emissions (metric tons per capita)\", \n",
    "           color=\"continent\",\n",
    "                 size='pop')\n",
    "\n",
    "fig.update_layout(\n",
    "title={\n",
    "    'text':'log GDP vs. log CO2 emissions in 1967', \n",
    "    'xanchor': 'center', 'yanchor': 'top','x':0.45, 'y':0.92,\n",
    "})\n",
    "fig.show()"
   ]
  },
  {
   "cell_type": "markdown",
   "metadata": {},
   "source": [
    "### More Questions\n",
    "#### Question 1\n",
    "What is the relationship between between continent and 'Energy use (kg of oil equivalent per capita)'\n",
    "\n",
    "We use the Kruskal-Wallis test because it is a non-parametric version of ANOVA. It does not assume normal distribution of residuals\n",
    "The test works on 2 or more independent samples, which may have different sizes."
   ]
  },
  {
   "cell_type": "code",
   "execution_count": 15,
   "metadata": {},
   "outputs": [
    {
     "data": {
      "text/html": [
       "<div>\n",
       "<style scoped>\n",
       "    .dataframe tbody tr th:only-of-type {\n",
       "        vertical-align: middle;\n",
       "    }\n",
       "\n",
       "    .dataframe tbody tr th {\n",
       "        vertical-align: top;\n",
       "    }\n",
       "\n",
       "    .dataframe thead th {\n",
       "        text-align: right;\n",
       "    }\n",
       "</style>\n",
       "<table border=\"1\" class=\"dataframe\">\n",
       "  <thead>\n",
       "    <tr style=\"text-align: right;\">\n",
       "      <th></th>\n",
       "      <th>Source</th>\n",
       "      <th>ddof1</th>\n",
       "      <th>H</th>\n",
       "      <th>p-unc</th>\n",
       "    </tr>\n",
       "  </thead>\n",
       "  <tbody>\n",
       "    <tr>\n",
       "      <th>Kruskal</th>\n",
       "      <td>continent</td>\n",
       "      <td>4</td>\n",
       "      <td>318.676317</td>\n",
       "      <td>1.012404e-67</td>\n",
       "    </tr>\n",
       "  </tbody>\n",
       "</table>\n",
       "</div>"
      ],
      "text/plain": [
       "            Source  ddof1           H         p-unc\n",
       "Kruskal  continent      4  318.676317  1.012404e-67"
      ]
     },
     "execution_count": 15,
     "metadata": {},
     "output_type": "execute_result"
    }
   ],
   "source": [
    "mod=pg.kruskal(data=df, between='continent', dv='Energy use (kg of oil equivalent per capita)')\n",
    "mod"
   ]
  },
  {
   "cell_type": "markdown",
   "metadata": {},
   "source": [
    "#### Question 2\n",
    "Is there a significant difference between Europe and Asia with respect to 'Imports of goods and services (% of GDP)' in the years after 1990?\n",
    "\n",
    "We fit a linear regression model to compare the two groups. "
   ]
  },
  {
   "cell_type": "code",
   "execution_count": 14,
   "metadata": {},
   "outputs": [
    {
     "data": {
      "text/html": [
       "<div>\n",
       "<style scoped>\n",
       "    .dataframe tbody tr th:only-of-type {\n",
       "        vertical-align: middle;\n",
       "    }\n",
       "\n",
       "    .dataframe tbody tr th {\n",
       "        vertical-align: top;\n",
       "    }\n",
       "\n",
       "    .dataframe thead th {\n",
       "        text-align: right;\n",
       "    }\n",
       "</style>\n",
       "<table border=\"1\" class=\"dataframe\">\n",
       "  <thead>\n",
       "    <tr style=\"text-align: right;\">\n",
       "      <th></th>\n",
       "      <th>names</th>\n",
       "      <th>coef</th>\n",
       "      <th>se</th>\n",
       "      <th>T</th>\n",
       "      <th>pval</th>\n",
       "      <th>r2</th>\n",
       "      <th>adj_r2</th>\n",
       "      <th>CI[2.5%]</th>\n",
       "      <th>CI[97.5%]</th>\n",
       "    </tr>\n",
       "  </thead>\n",
       "  <tbody>\n",
       "    <tr>\n",
       "      <th>0</th>\n",
       "      <td>Intercept</td>\n",
       "      <td>46.474503</td>\n",
       "      <td>3.202656</td>\n",
       "      <td>14.511238</td>\n",
       "      <td>1.456183e-31</td>\n",
       "      <td>0.007808</td>\n",
       "      <td>0.001972</td>\n",
       "      <td>40.152406</td>\n",
       "      <td>52.796600</td>\n",
       "    </tr>\n",
       "    <tr>\n",
       "      <th>1</th>\n",
       "      <td>continent</td>\n",
       "      <td>-4.882679</td>\n",
       "      <td>4.221404</td>\n",
       "      <td>-1.156648</td>\n",
       "      <td>2.490389e-01</td>\n",
       "      <td>0.007808</td>\n",
       "      <td>0.001972</td>\n",
       "      <td>-13.215801</td>\n",
       "      <td>3.450443</td>\n",
       "    </tr>\n",
       "  </tbody>\n",
       "</table>\n",
       "</div>"
      ],
      "text/plain": [
       "       names       coef        se          T          pval        r2  \\\n",
       "0  Intercept  46.474503  3.202656  14.511238  1.456183e-31  0.007808   \n",
       "1  continent  -4.882679  4.221404  -1.156648  2.490389e-01  0.007808   \n",
       "\n",
       "     adj_r2   CI[2.5%]  CI[97.5%]  \n",
       "0  0.001972  40.152406  52.796600  \n",
       "1  0.001972 -13.215801   3.450443  "
      ]
     },
     "execution_count": 14,
     "metadata": {},
     "output_type": "execute_result"
    }
   ],
   "source": [
    "df90=df.loc[np.where((df['Year']>1990))]\n",
    "df90=df90[df90['continent'].isin(['Europe', 'Asia'])]\n",
    "df90=df90.replace({'Europe':1, 'Asia': 0}) #get dummy variable for categorical vars\n",
    "df90=df90.dropna()\n",
    "mod=pg.linear_regression(df90['continent'], df90['Imports of goods and services (% of GDP)'].to_numpy())\n",
    "mod"
   ]
  },
  {
   "cell_type": "markdown",
   "metadata": {},
   "source": [
    "#### Question 3\n",
    "What is the country (or countries) that has the highest 'Population density (people per sq. km of land area)' across all years? (i.e., which country has the highest average ranking in this category across each time point in the dataset?\n",
    "\n",
    "Hong Kong has the highest population density."
   ]
  },
  {
   "cell_type": "code",
   "execution_count": 28,
   "metadata": {},
   "outputs": [
    {
     "data": {
      "image/png": "[encoded data removed]",
      "text/plain": [
       "<Figure size 432x288 with 1 Axes>"
      ]
     },
     "metadata": {
      "needs_background": "light"
     },
     "output_type": "display_data"
    }
   ],
   "source": [
    "d=df.groupby(['Country Name']).agg({'Population density (people per sq. km of land area)': 'mean'}).sort_values(\n",
    "    by=['Population density (people per sq. km of land area)'], ascending=False)\n",
    "d.head(10).plot(legend=False, kind='bar', rot=75, color='navy')\n",
    "plt.ylabel('People per sq. km of land area')\n",
    "plt.title('Top 10 countries with highest population density')\n",
    "plt.show()\n",
    "#country has the highest average ranking in population density is Macao"
   ]
  },
  {
   "cell_type": "markdown",
   "metadata": {},
   "source": [
    "#### Question 4\n",
    "What country (or countries) has shown the greatest increase in \n",
    "'Life expectancy at birth, total (years)' since 1962?\n",
    "\n",
    "The top 10 countries that has shown the greatest increase in life expectancy are: \n",
    "'Cambodia', 'Maldives', 'Bhutan', 'Timor-Leste', 'Tunisia', 'Oman', 'Nepal', 'Rwanda', 'China', 'Yemen, Rep.'"
   ]
  },
  {
   "cell_type": "code",
   "execution_count": 21,
   "metadata": {},
   "outputs": [
    {
     "data": {
      "image/png": "[encoded data removed]",
      "text/plain": [
       "<Figure size 432x288 with 1 Axes>"
      ]
     },
     "metadata": {
      "needs_background": "light"
     },
     "output_type": "display_data"
    }
   ],
   "source": [
    "#What country (or countries) has shown the greatest increase \n",
    "#in 'Life expectancy at birth, total (years)' since 1962\n",
    "var='Life expectancy at birth, total (years)'\n",
    "# d\n",
    "d=df.groupby(['Country Name']).agg({var: np.ptp})\n",
    "# d.dropna().sort_values(by=[var], ascending=False)\n",
    "# #d.head(10).plot(legend=False, kind='bar', rot=75, color='navy')\n",
    "d=d.sort_values(by=[var], ascending=False).head(10)\n",
    "d.head(10).plot(legend=False, kind='bar', rot=75, color='purple')\n",
    "plt.title('Countries with greatest increase in life expectancy from 1992-2007')\n",
    "plt.ylabel('Increase in years since 1962')\n",
    "countryLs=list(d.index)\n",
    "dfYrs = df[df['Country Name'].isin(countryLs)]\n",
    "yr62=(dfYrs[dfYrs['Year']==1962][var])\n",
    "yr07=(dfYrs[dfYrs['Year']==2007][var])"
   ]
  },
  {
   "cell_type": "code",
   "execution_count": 20,
   "metadata": {},
   "outputs": [
    {
     "data": {
      "text/plain": [
       "<matplotlib.legend.Legend at 0x267dccfea48>"
      ]
     },
     "execution_count": 20,
     "metadata": {},
     "output_type": "execute_result"
    },
    {
     "data": {
      "image/png": "[encoded data removed]",
      "text/plain": [
       "<Figure size 720x432 with 1 Axes>"
      ]
     },
     "metadata": {
      "needs_background": "light"
     },
     "output_type": "display_data"
    }
   ],
   "source": [
    "N = 10\n",
    "ind = np.arange(N)  # the x locations for the groups\n",
    "width = 0.35       # the width of the bars\n",
    "fig = plt.figure(figsize=(10,6))\n",
    "ax = fig.add_subplot(111)\n",
    "rects1 = ax.bar(ind, yr62, width, color='pink', )\n",
    "rects2 = ax.bar(ind+width, yr07, width, color='mediumaquamarine')\n",
    "\n",
    "ax.set_ylabel('Years')\n",
    "ax.set_xlabel('Country')\n",
    "ax.set_title('Life Expectancy at Birth By Year (1962 vs 2007)')\n",
    "ax.set_xticks(ind + width / 2)\n",
    "ax.set_xticklabels( countryLs , rotation=75)\n",
    "ax.legend( (rects1[0], rects2[0]), ('1962', '2007') )\n",
    "#print(countryLs)"
   ]
  },
  {
   "cell_type": "code",
   "execution_count": null,
   "metadata": {},
   "outputs": [],
   "source": []
  }
 ],
 "metadata": {
  "kernelspec": {
   "display_name": "Python 3",
   "language": "python",
   "name": "python3"
  },
  "language_info": {
   "codemirror_mode": {
    "name": "ipython",
    "version": 3
   },
   "file_extension": ".py",
   "mimetype": "text/x-python",
   "name": "python",
   "nbconvert_exporter": "python",
   "pygments_lexer": "ipython3",
   "version": "3.7.6"
  }
 },
 "nbformat": 4,
 "nbformat_minor": 4
}
