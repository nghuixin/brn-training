{
 "cells": [
  {
   "cell_type": "markdown",
   "metadata": {},
   "source": [
    "​\n",
    "Commit reviewed: \n",
    "Really good first attempt! Critiques are relatively minor, please address them as fully as possible and submit line-by-line response in a separate markdown document. \n",
    "​\n",
    "\n",
    "Critiques:\n",
    "1. You should include more detailed descriptions in the markdown blocks within the notebook. For example, why did you apply Pearson correlation in question 4? Were the asummptions of Pearson met? I think including more markdown (and code) to back up your statistical reasoning is important in places like this. Another example is your use of a linear regression in \"More Questions: Question 2\" -- why linear regression instead of a difference of means test such as t-test or anova? Moreover, you did not provide your answer to the question after running the regression. \n",
    "\n",
    "2. The answer to \"More Questions: Question 3\" is correct in the plot, but incorrect in the markdown above it. \n",
    "\n",
    "3. The answer to \"More Questions: Question 4\" is incorrect -- check your code for bugs and consider the assumptions made by your code about the data. I would be willing to accept a convincing argument that the wording of the question was vague enough to allow your answer, but you would need to include that argument in the markdown. \n",
    "\n",
    "4. Each plot should have a title. Also consider whether your X and Y axes are appropriately scaled for your first two plots -- I would consider using a log scale here. Also make sure your axis labels are reader-friendly. For example the label on the second plot says \"gdpPercap\" -- I would change this to something like \"GDP per capita (in dollars)\" or something like that."
   ]
  },
  {
   "cell_type": "code",
   "execution_count": null,
   "metadata": {},
   "outputs": [],
   "source": []
  }
 ],
 "metadata": {
  "kernelspec": {
   "display_name": "Python 3",
   "language": "python",
   "name": "python3"
  },
  "language_info": {
   "codemirror_mode": {
    "name": "ipython",
    "version": 3
   },
   "file_extension": ".py",
   "mimetype": "text/x-python",
   "name": "python",
   "nbconvert_exporter": "python",
   "pygments_lexer": "ipython3",
   "version": "3.7.6"
  }
 },
 "nbformat": 4,
 "nbformat_minor": 4
}
