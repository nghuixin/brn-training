{
 "cells": [
  {
   "cell_type": "code",
   "execution_count": 2,
   "metadata": {},
   "outputs": [],
   "source": [
    "import numpy as np\n",
    "import pandas as pd\n",
    "import matplotlib.pyplot as plt\n",
    "import seaborn as sns\n",
    "import pingouin as pg\n",
    "import plotly.express as px\n",
    "import math"
   ]
  },
  {
   "cell_type": "markdown",
   "metadata": {},
   "source": [
    "#### Question 1-2\n",
    "Filter data to include rows where year is 1962."
   ]
  },
  {
   "cell_type": "code",
   "execution_count": 4,
   "metadata": {},
   "outputs": [],
   "source": [
    "df = pd.read_csv('gapminder_clean.csv', index_col=[0])"
   ]
  },
  {
   "cell_type": "code",
   "execution_count": 7,
   "metadata": {},
   "outputs": [
    {
     "data": {
      "text/plain": [
       "0       6.748878\n",
       "10      7.746253\n",
       "20      7.844169\n",
       "30           NaN\n",
       "40           NaN\n",
       "          ...   \n",
       "2553         NaN\n",
       "2567         NaN\n",
       "2577         NaN\n",
       "2587    7.281197\n",
       "2597    6.267717\n",
       "Name: gdpPercap, Length: 259, dtype: float64"
      ]
     },
     "execution_count": 7,
     "metadata": {},
     "output_type": "execute_result"
    },
    {
     "data": {
      "image/png": "[encoded data removed]",
      "text/plain": [
       "<Figure size 576x432 with 1 Axes>"
      ]
     },
     "metadata": {
      "needs_background": "light"
     },
     "output_type": "display_data"
    }
   ],
   "source": [
    "df62=df.loc[np.where((df['Year']==1962))]\n",
    "plt.figure(figsize=(8,6))\n",
    "co2=df62['CO2 emissions (metric tons per capita)']\n",
    "gdp=df62['gdpPercap']\n",
    "\n",
    "plt.scatter(np.log(gdp), gdp, c='darkgreen')\n",
    "plt.ylabel('CO2 emissions (metric tons per capita)')\n",
    "plt.xlabel('GDP per capita in PPP')\n",
    "plt.title('')\n",
    "#plt.show()\n"
   ]
  },
  {
   "cell_type": "markdown",
   "metadata": {},
   "source": [
    "#### Question 3 \n",
    "What is the Pearson r value and associated p value?  \n",
    "The correlation coefficient is 0.92 which indicates a strong relationship between the two variables. However, we do not use the r value for prediction since it does not tell us how well predicted values match onto actual values. "
   ]
  },
  {
   "cell_type": "code",
   "execution_count": 27,
   "metadata": {},
   "outputs": [
    {
     "name": "stdout",
     "output_type": "stream",
     "text": [
      "r:  pearson    0.926082\n",
      "Name: r, dtype: float64 \n",
      "\n",
      "p-val:  pearson    1.128679e-46\n",
      "Name: p-val, dtype: float64\n"
     ]
    }
   ],
   "source": [
    "m=pg.corr(co2, gdp)\n",
    "print('r: ', m['r'], '\\n')\n",
    "print('p-val: ', m['p-val'])"
   ]
  },
  {
   "cell_type": "markdown",
   "metadata": {},
   "source": [
    "#### Question 4\n",
    "Year 1967 is the year the correlation between CO2 emissions and gdpPercap is the highest, at r=~0.94"
   ]
  },
  {
   "cell_type": "code",
   "execution_count": null,
   "metadata": {},
   "outputs": [],
   "source": [
    "yrs=list(df['Year'].value_counts().index)\n",
    "ls=[]\n",
    "for y in yrs: \n",
    "    a=df.loc[np.where((df['Year']==y))]\n",
    "    c=pg.corr(a['CO2 emissions (metric tons per capita)'], a['gdpPercap'])\n",
    "    c['year']=y\n",
    "    ls.append(c)\n",
    "pd.concat(ls).sort_values(by=['p-val'], ascending=True) #1967 "
   ]
  },
  {
   "cell_type": "markdown",
   "metadata": {},
   "source": [
    "#### Question 5\n",
    "Interactive plot"
   ]
  },
  {
   "cell_type": "code",
   "execution_count": 7,
   "metadata": {},
   "outputs": [],
   "source": [
    "yr67=df[df['Year']==1967]\n",
    "yr67=yr67[[\"gdpPercap\",\"CO2 emissions (metric tons per capita)\", 'pop',\n",
    "         'continent' ]].dropna()\n",
    "fig=px.scatter(yr67, x=\"gdpPercap\", y=\"CO2 emissions (metric tons per capita)\", \n",
    "           color=\"continent\",\n",
    "                 size='pop')\n",
    "fig.show()"
   ]
  }
 ],
 "metadata": {
  "kernelspec": {
   "display_name": "Python 3",
   "language": "python",
   "name": "python3"
  },
  "language_info": {
   "codemirror_mode": {
    "name": "ipython",
    "version": 3
   },
   "file_extension": ".py",
   "mimetype": "text/x-python",
   "name": "python",
   "nbconvert_exporter": "python",
   "pygments_lexer": "ipython3",
   "version": "3.7.6"
  }
 },
 "nbformat": 4,
 "nbformat_minor": 4
}
