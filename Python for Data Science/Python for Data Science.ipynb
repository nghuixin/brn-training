{
 "cells": [
  {
   "cell_type": "code",
   "execution_count": 373,
   "metadata": {},
   "outputs": [],
   "source": [
    "import numpy as np\n",
    "import pandas as pd\n",
    "import matplotlib.pyplot as plt\n",
    "import seaborn as sns\n",
    "import pingouin as pg\n",
    "import plotly"
   ]
  },
  {
   "cell_type": "code",
   "execution_count": 382,
   "metadata": {},
   "outputs": [],
   "source": [
    "#Filter the data to include only rows where Year is 1962\n",
    "#make a scatter plot comparing 'CO2 emissions (metric tons per capita)' and gdpPercap for the filtered data.\n",
    "df = pd.read_csv('gapminder_clean.csv', index_col=[0])"
   ]
  },
  {
   "cell_type": "code",
   "execution_count": 257,
   "metadata": {},
   "outputs": [
    {
     "data": {
      "text/plain": [
       "<matplotlib.collections.PathCollection at 0x1f0254be388>"
      ]
     },
     "execution_count": 257,
     "metadata": {},
     "output_type": "execute_result"
    },
    {
     "data": {
      "image/png": "[encoded data removed]",
      "text/plain": [
       "<Figure size 576x432 with 1 Axes>"
      ]
     },
     "metadata": {
      "needs_background": "light"
     },
     "output_type": "display_data"
    }
   ],
   "source": [
    "df62=df.loc[np.where((df['Year']==1962))]\n",
    "plt.figure(figsize=(8,6))\n",
    "co2=df62['CO2 emissions (metric tons per capita)']\n",
    "gdp=df62['gdpPercap']\n",
    "plt.scatter(co2, gdp, c='darkgreen')\n",
    "plt.ylabel('')"
   ]
  },
  {
   "cell_type": "code",
   "execution_count": 258,
   "metadata": {},
   "outputs": [
    {
     "data": {
      "text/html": [
       "<div>\n",
       "<style scoped>\n",
       "    .dataframe tbody tr th:only-of-type {\n",
       "        vertical-align: middle;\n",
       "    }\n",
       "\n",
       "    .dataframe tbody tr th {\n",
       "        vertical-align: top;\n",
       "    }\n",
       "\n",
       "    .dataframe thead th {\n",
       "        text-align: right;\n",
       "    }\n",
       "</style>\n",
       "<table border=\"1\" class=\"dataframe\">\n",
       "  <thead>\n",
       "    <tr style=\"text-align: right;\">\n",
       "      <th></th>\n",
       "      <th>n</th>\n",
       "      <th>r</th>\n",
       "      <th>CI95%</th>\n",
       "      <th>p-val</th>\n",
       "      <th>BF10</th>\n",
       "      <th>power</th>\n",
       "    </tr>\n",
       "  </thead>\n",
       "  <tbody>\n",
       "    <tr>\n",
       "      <th>pearson</th>\n",
       "      <td>108</td>\n",
       "      <td>0.926082</td>\n",
       "      <td>[0.89, 0.95]</td>\n",
       "      <td>1.128679e-46</td>\n",
       "      <td>1.312e+43</td>\n",
       "      <td>1.0</td>\n",
       "    </tr>\n",
       "  </tbody>\n",
       "</table>\n",
       "</div>"
      ],
      "text/plain": [
       "           n         r         CI95%         p-val       BF10  power\n",
       "pearson  108  0.926082  [0.89, 0.95]  1.128679e-46  1.312e+43    1.0"
      ]
     },
     "execution_count": 258,
     "metadata": {},
     "output_type": "execute_result"
    }
   ],
   "source": [
    "# What is the Pearson R value and associated p value?\n",
    "pg.corr(co2, gdp)"
   ]
  },
  {
   "cell_type": "code",
   "execution_count": 259,
   "metadata": {},
   "outputs": [],
   "source": [
    "#On the unfiltered data, answer \"In what year is the correlation between \n",
    "#'CO2 emissions (metric tons per capita)' and gdpPercap the strongest?\" \n",
    "#Filter the dataset to that year for the next step \n",
    "yrs=list(df['Year'].value_counts().index)"
   ]
  },
  {
   "cell_type": "code",
   "execution_count": 260,
   "metadata": {},
   "outputs": [],
   "source": [
    "ls=[]\n",
    "for y in yrs: \n",
    "    a=df.loc[np.where((df['Year']==y))]\n",
    "    c=pg.corr(a['CO2 emissions (metric tons per capita)'], a['gdpPercap'])\n",
    "    c['year']=y\n",
    "    ls.append(c)"
   ]
  },
  {
   "cell_type": "code",
   "execution_count": 261,
   "metadata": {},
   "outputs": [
    {
     "data": {
      "text/html": [
       "<div>\n",
       "<style scoped>\n",
       "    .dataframe tbody tr th:only-of-type {\n",
       "        vertical-align: middle;\n",
       "    }\n",
       "\n",
       "    .dataframe tbody tr th {\n",
       "        vertical-align: top;\n",
       "    }\n",
       "\n",
       "    .dataframe thead th {\n",
       "        text-align: right;\n",
       "    }\n",
       "</style>\n",
       "<table border=\"1\" class=\"dataframe\">\n",
       "  <thead>\n",
       "    <tr style=\"text-align: right;\">\n",
       "      <th></th>\n",
       "      <th>n</th>\n",
       "      <th>r</th>\n",
       "      <th>CI95%</th>\n",
       "      <th>p-val</th>\n",
       "      <th>BF10</th>\n",
       "      <th>power</th>\n",
       "      <th>year</th>\n",
       "    </tr>\n",
       "  </thead>\n",
       "  <tbody>\n",
       "    <tr>\n",
       "      <th>pearson</th>\n",
       "      <td>113</td>\n",
       "      <td>0.938792</td>\n",
       "      <td>[0.91, 0.96]</td>\n",
       "      <td>3.397143e-53</td>\n",
       "      <td>3.423e+49</td>\n",
       "      <td>1.0</td>\n",
       "      <td>1967</td>\n",
       "    </tr>\n",
       "    <tr>\n",
       "      <th>pearson</th>\n",
       "      <td>108</td>\n",
       "      <td>0.926082</td>\n",
       "      <td>[0.89, 0.95]</td>\n",
       "      <td>1.128679e-46</td>\n",
       "      <td>1.312e+43</td>\n",
       "      <td>1.0</td>\n",
       "      <td>1962</td>\n",
       "    </tr>\n",
       "    <tr>\n",
       "      <th>pearson</th>\n",
       "      <td>116</td>\n",
       "      <td>0.842899</td>\n",
       "      <td>[0.78, 0.89]</td>\n",
       "      <td>1.824292e-32</td>\n",
       "      <td>1.67e+29</td>\n",
       "      <td>1.0</td>\n",
       "      <td>1972</td>\n",
       "    </tr>\n",
       "    <tr>\n",
       "      <th>pearson</th>\n",
       "      <td>124</td>\n",
       "      <td>0.808140</td>\n",
       "      <td>[0.74, 0.86]</td>\n",
       "      <td>7.976156e-30</td>\n",
       "      <td>4.444e+26</td>\n",
       "      <td>1.0</td>\n",
       "      <td>1997</td>\n",
       "    </tr>\n",
       "    <tr>\n",
       "      <th>pearson</th>\n",
       "      <td>122</td>\n",
       "      <td>0.809432</td>\n",
       "      <td>[0.74, 0.86]</td>\n",
       "      <td>1.610614e-29</td>\n",
       "      <td>2.221e+26</td>\n",
       "      <td>1.0</td>\n",
       "      <td>1992</td>\n",
       "    </tr>\n",
       "    <tr>\n",
       "      <th>pearson</th>\n",
       "      <td>125</td>\n",
       "      <td>0.800642</td>\n",
       "      <td>[0.73, 0.86]</td>\n",
       "      <td>3.863564e-29</td>\n",
       "      <td>9.498e+25</td>\n",
       "      <td>1.0</td>\n",
       "      <td>2002</td>\n",
       "    </tr>\n",
       "    <tr>\n",
       "      <th>pearson</th>\n",
       "      <td>116</td>\n",
       "      <td>0.816638</td>\n",
       "      <td>[0.75, 0.87]</td>\n",
       "      <td>5.565916e-29</td>\n",
       "      <td>6.485e+25</td>\n",
       "      <td>1.0</td>\n",
       "      <td>1982</td>\n",
       "    </tr>\n",
       "    <tr>\n",
       "      <th>pearson</th>\n",
       "      <td>116</td>\n",
       "      <td>0.809553</td>\n",
       "      <td>[0.74, 0.86]</td>\n",
       "      <td>3.899627e-28</td>\n",
       "      <td>9.653e+24</td>\n",
       "      <td>1.0</td>\n",
       "      <td>1987</td>\n",
       "    </tr>\n",
       "    <tr>\n",
       "      <th>pearson</th>\n",
       "      <td>116</td>\n",
       "      <td>0.792834</td>\n",
       "      <td>[0.71, 0.85]</td>\n",
       "      <td>2.838892e-26</td>\n",
       "      <td>1.457e+23</td>\n",
       "      <td>1.0</td>\n",
       "      <td>1977</td>\n",
       "    </tr>\n",
       "    <tr>\n",
       "      <th>pearson</th>\n",
       "      <td>128</td>\n",
       "      <td>0.720417</td>\n",
       "      <td>[0.63, 0.79]</td>\n",
       "      <td>9.232747e-22</td>\n",
       "      <td>5.735e+18</td>\n",
       "      <td>1.0</td>\n",
       "      <td>2007</td>\n",
       "    </tr>\n",
       "  </tbody>\n",
       "</table>\n",
       "</div>"
      ],
      "text/plain": [
       "           n         r         CI95%         p-val       BF10  power  year\n",
       "pearson  113  0.938792  [0.91, 0.96]  3.397143e-53  3.423e+49    1.0  1967\n",
       "pearson  108  0.926082  [0.89, 0.95]  1.128679e-46  1.312e+43    1.0  1962\n",
       "pearson  116  0.842899  [0.78, 0.89]  1.824292e-32   1.67e+29    1.0  1972\n",
       "pearson  124  0.808140  [0.74, 0.86]  7.976156e-30  4.444e+26    1.0  1997\n",
       "pearson  122  0.809432  [0.74, 0.86]  1.610614e-29  2.221e+26    1.0  1992\n",
       "pearson  125  0.800642  [0.73, 0.86]  3.863564e-29  9.498e+25    1.0  2002\n",
       "pearson  116  0.816638  [0.75, 0.87]  5.565916e-29  6.485e+25    1.0  1982\n",
       "pearson  116  0.809553  [0.74, 0.86]  3.899627e-28  9.653e+24    1.0  1987\n",
       "pearson  116  0.792834  [0.71, 0.85]  2.838892e-26  1.457e+23    1.0  1977\n",
       "pearson  128  0.720417  [0.63, 0.79]  9.232747e-22  5.735e+18    1.0  2007"
      ]
     },
     "execution_count": 261,
     "metadata": {},
     "output_type": "execute_result"
    }
   ],
   "source": [
    "pd.concat(ls).sort_values(by=['p-val'], ascending=True) #1967 "
   ]
  },
  {
   "cell_type": "code",
   "execution_count": 381,
   "metadata": {},
   "outputs": [],
   "source": [
    "import plotly.express as px"
   ]
  },
  {
   "cell_type": "code",
   "execution_count": 263,
   "metadata": {},
   "outputs": [
    {
     "data": {
      "text/html": [
       "<div>\n",
       "<style scoped>\n",
       "    .dataframe tbody tr th:only-of-type {\n",
       "        vertical-align: middle;\n",
       "    }\n",
       "\n",
       "    .dataframe tbody tr th {\n",
       "        vertical-align: top;\n",
       "    }\n",
       "\n",
       "    .dataframe thead th {\n",
       "        text-align: right;\n",
       "    }\n",
       "</style>\n",
       "<table border=\"1\" class=\"dataframe\">\n",
       "  <thead>\n",
       "    <tr style=\"text-align: right;\">\n",
       "      <th></th>\n",
       "      <th>Source</th>\n",
       "      <th>ddof1</th>\n",
       "      <th>H</th>\n",
       "      <th>p-unc</th>\n",
       "    </tr>\n",
       "  </thead>\n",
       "  <tbody>\n",
       "    <tr>\n",
       "      <th>Kruskal</th>\n",
       "      <td>continent</td>\n",
       "      <td>4</td>\n",
       "      <td>318.676317</td>\n",
       "      <td>1.012404e-67</td>\n",
       "    </tr>\n",
       "  </tbody>\n",
       "</table>\n",
       "</div>"
      ],
      "text/plain": [
       "            Source  ddof1           H         p-unc\n",
       "Kruskal  continent      4  318.676317  1.012404e-67"
      ]
     },
     "execution_count": 263,
     "metadata": {},
     "output_type": "execute_result"
    }
   ],
   "source": [
    "#relationship between continent and 'Energy use (kg of oil equivalent per capita)'\n",
    "mod=pg.kruskal(data=df, between='continent', dv='Energy use (kg of oil equivalent per capita)')\n",
    "mod\n",
    "#tests the null hypothesis that the population median (energy use) of all of the groups are equal. \n",
    "#It is a non-parametric version of ANOVA. It does not assume normal distribution of residuals\n",
    "#The test works on 2 or more independent samples, which may have different sizes."
   ]
  },
  {
   "cell_type": "code",
   "execution_count": 265,
   "metadata": {},
   "outputs": [
    {
     "data": {
      "text/html": [
       "<div>\n",
       "<style scoped>\n",
       "    .dataframe tbody tr th:only-of-type {\n",
       "        vertical-align: middle;\n",
       "    }\n",
       "\n",
       "    .dataframe tbody tr th {\n",
       "        vertical-align: top;\n",
       "    }\n",
       "\n",
       "    .dataframe thead th {\n",
       "        text-align: right;\n",
       "    }\n",
       "</style>\n",
       "<table border=\"1\" class=\"dataframe\">\n",
       "  <thead>\n",
       "    <tr style=\"text-align: right;\">\n",
       "      <th></th>\n",
       "      <th>names</th>\n",
       "      <th>coef</th>\n",
       "      <th>se</th>\n",
       "      <th>T</th>\n",
       "      <th>pval</th>\n",
       "      <th>r2</th>\n",
       "      <th>adj_r2</th>\n",
       "      <th>CI[2.5%]</th>\n",
       "      <th>CI[97.5%]</th>\n",
       "    </tr>\n",
       "  </thead>\n",
       "  <tbody>\n",
       "    <tr>\n",
       "      <th>0</th>\n",
       "      <td>Intercept</td>\n",
       "      <td>46.474503</td>\n",
       "      <td>3.202656</td>\n",
       "      <td>14.511238</td>\n",
       "      <td>1.456183e-31</td>\n",
       "      <td>0.007808</td>\n",
       "      <td>0.001972</td>\n",
       "      <td>40.152406</td>\n",
       "      <td>52.796600</td>\n",
       "    </tr>\n",
       "    <tr>\n",
       "      <th>1</th>\n",
       "      <td>continent</td>\n",
       "      <td>-4.882679</td>\n",
       "      <td>4.221404</td>\n",
       "      <td>-1.156648</td>\n",
       "      <td>2.490389e-01</td>\n",
       "      <td>0.007808</td>\n",
       "      <td>0.001972</td>\n",
       "      <td>-13.215801</td>\n",
       "      <td>3.450443</td>\n",
       "    </tr>\n",
       "  </tbody>\n",
       "</table>\n",
       "</div>"
      ],
      "text/plain": [
       "       names       coef        se          T          pval        r2  \\\n",
       "0  Intercept  46.474503  3.202656  14.511238  1.456183e-31  0.007808   \n",
       "1  continent  -4.882679  4.221404  -1.156648  2.490389e-01  0.007808   \n",
       "\n",
       "     adj_r2   CI[2.5%]  CI[97.5%]  \n",
       "0  0.001972  40.152406  52.796600  \n",
       "1  0.001972 -13.215801   3.450443  "
      ]
     },
     "execution_count": 265,
     "metadata": {},
     "output_type": "execute_result"
    }
   ],
   "source": [
    "#Is there a significant difference between Europe and Asia with respect to 'Imports of goods and services (% of GDP)'\n",
    "#in the years after 1990? (Stats test needed)\n",
    "df90=df.loc[np.where((df['Year']>1990))]\n",
    "df90=df90[df90['continent'].isin(['Europe', 'Asia'])]\n",
    "df90=df90.replace({'Europe':1, 'Asia': 0})\n",
    "df90=df90.dropna()\n",
    "mod=pg.linear_regression(df90['continent'], df90['Imports of goods and services (% of GDP)'].to_numpy())\n",
    "mod"
   ]
  },
  {
   "cell_type": "code",
   "execution_count": 380,
   "metadata": {},
   "outputs": [
    {
     "data": {
      "text/plain": [
       "Text(0, 0.5, 'People per sq. km of land area')"
      ]
     },
     "execution_count": 380,
     "metadata": {},
     "output_type": "execute_result"
    },
    {
     "data": {
      "image/png": "[encoded data removed]",
      "text/plain": [
       "<Figure size 432x288 with 1 Axes>"
      ]
     },
     "metadata": {
      "needs_background": "light"
     },
     "output_type": "display_data"
    }
   ],
   "source": [
    "d=df.groupby(['Country Name']).agg({'Population density (people per sq. km of land area)': 'mean'}).sort_values(\n",
    "    by=['Population density (people per sq. km of land area)'], ascending=False)\n",
    "d.head(10).plot(legend=False, kind='bar', rot=75, color='navy')\n",
    "plt.ylabel('People per sq. km of land area')\n",
    "\n",
    "#country has the highest average ranking in population density is Macao"
   ]
  },
  {
   "cell_type": "code",
   "execution_count": 378,
   "metadata": {},
   "outputs": [
    {
     "data": {
      "image/png": "[encoded data removed]",
      "text/plain": [
       "<Figure size 432x288 with 1 Axes>"
      ]
     },
     "metadata": {
      "needs_background": "light"
     },
     "output_type": "display_data"
    }
   ],
   "source": [
    "#What country (or countries) has shown the greatest increase \n",
    "#in 'Life expectancy at birth, total (years)' since 1962\n",
    "var='Life expectancy at birth, total (years)'\n",
    "# d\n",
    "d=df.groupby(['Country Name']).agg({var: np.ptp})\n",
    "# d.dropna().sort_values(by=[var], ascending=False)\n",
    "# #d.head(10).plot(legend=False, kind='bar', rot=75, color='navy')\n",
    "d=d.sort_values(by=[var], ascending=False).head(10)\n",
    "d.head(10).plot(legend=False, kind='bar', rot=75, color='purple')\n",
    "plt.title('Countries with greatest increase in life expectancy from 1992-2007')\n",
    "plt.ylabel('Years')\n",
    "countryLs=list(d.index)\n",
    "dfYrs = df[df['Country Name'].isin(countryLs)]\n",
    "yr62=(dfYrs[dfYrs['Year']==1962][var])\n",
    "yr07=(dfYrs[dfYrs['Year']==2007][var])"
   ]
  },
  {
   "cell_type": "code",
   "execution_count": 371,
   "metadata": {},
   "outputs": [
    {
     "data": {
      "text/plain": [
       "<matplotlib.legend.Legend at 0x1f025f9ff48>"
      ]
     },
     "execution_count": 371,
     "metadata": {},
     "output_type": "execute_result"
    },
    {
     "data": {
      "image/png": "[encoded data removed]",
      "text/plain": [
       "<Figure size 720x432 with 1 Axes>"
      ]
     },
     "metadata": {
      "needs_background": "light"
     },
     "output_type": "display_data"
    }
   ],
   "source": [
    "N = 10\n",
    "ind = np.arange(N)  # the x locations for the groups\n",
    "width = 0.35       # the width of the bars\n",
    "fig = plt.figure(figsize=(10,6))\n",
    "ax = fig.add_subplot(111)\n",
    "rects1 = ax.bar(ind, yr62, width, color='pink', )\n",
    "rects2 = ax.bar(ind+width, yr07, width, color='mediumaquamarine')\n",
    "\n",
    "ax.set_ylabel('Years')\n",
    "ax.set_xlabel('Country')\n",
    "ax.set_title('Life Expectancy at Birth By Year (1962 vs 2007)')\n",
    "ax.set_xticks(ind + width / 2)\n",
    "ax.set_xticklabels( countryLs , rotation=75)\n",
    "ax.legend( (rects1[0], rects2[0]), ('1962', '2007') )"
   ]
  }
 ],
 "metadata": {
  "kernelspec": {
   "display_name": "Python 3",
   "language": "python",
   "name": "python3"
  },
  "language_info": {
   "codemirror_mode": {
    "name": "ipython",
    "version": 3
   },
   "file_extension": ".py",
   "mimetype": "text/x-python",
   "name": "python",
   "nbconvert_exporter": "python",
   "pygments_lexer": "ipython3",
   "version": "3.7.6"
  }
 },
 "nbformat": 4,
 "nbformat_minor": 4
}
